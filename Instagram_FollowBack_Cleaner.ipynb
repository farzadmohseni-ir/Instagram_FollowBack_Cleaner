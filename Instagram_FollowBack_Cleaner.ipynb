{
  "cells": [
    {
      "cell_type": "code",
      "execution_count": null,
      "metadata": {
        "id": "9NhyUfHfEd2J"
      },
      "outputs": [],
      "source": [
        "# Install the 'instagrapi' library to interact with Instagram using its private API\n",
        "!pip install instagrapi"
      ]
    },
    {
      "cell_type": "code",
      "execution_count": null,
      "metadata": {
        "id": "TL-kOHCYE-R1"
      },
      "outputs": [],
      "source": [
        "# Import necessary libraries: Client for Instagram API access, getpass for secure password input\n",
        "from instagrapi import Client\n",
        "from getpass import getpass\n",
        "\n",
        "# Create an instance of the Instagram client\n",
        "cl = Client()\n",
        "\n",
        "# Prompt the user to input their Instagram username and password securely\n",
        "username = input(\"Enter your Instagram username: \")\n",
        "password = getpass(\"Enter your Instagram password: \")\n",
        "\n",
        "# Try logging in without 2FA\n",
        "try:\n",
        "    cl.login(username, password)\n",
        "    print(\"Logged in successfully without 2FA\")\n",
        "except Exception as e:\n",
        "    print(\"2FA required for login\")\n",
        "\n",
        "    # Prompt for 2FA code if required\n",
        "    verification_code = input(\"Enter your 2FA code: \")\n",
        "    try:\n",
        "        cl.login(username, password, verification_code=verification_code)\n",
        "        print(\"Logged in successfully with 2FA\")\n",
        "    except Exception as e2:\n",
        "        print(\"Login failed:\", e2)"
      ]
    },
    {
      "cell_type": "code",
      "execution_count": null,
      "metadata": {
        "id": "z-RjuTnWGjEg"
      },
      "outputs": [],
      "source": [
        "import json\n",
        "\n",
        "# Load followers from JSON file\n",
        "with open(\"followers_1.json\", \"r\", encoding=\"utf-8\") as f:\n",
        "    followers_data = json.load(f)\n",
        "\n",
        "# Extract follower usernames from the loaded data\n",
        "followers = {\n",
        "    entry[\"string_list_data\"][0][\"value\"]\n",
        "    for entry in followers_data\n",
        "    if entry.get(\"string_list_data\")\n",
        "}\n",
        "\n",
        "# Load followings from JSON file\n",
        "with open(\"following.json\", \"r\", encoding=\"utf-8\") as f:\n",
        "    following_data = json.load(f)\n",
        "\n",
        "# Extract following usernames from the loaded data\n",
        "followings = {\n",
        "    entry[\"string_list_data\"][0][\"value\"]\n",
        "    for entry in following_data[\"relationships_following\"]\n",
        "    if entry.get(\"string_list_data\")\n",
        "}\n",
        "\n",
        "# Identify users you follow but who don't follow you back\n",
        "not_following_back = followings - followers\n",
        "\n",
        "# Display the number and list of users who are not following you back\n",
        "print(f\"Number of users not following back: {len(not_following_back)}\\n\")\n",
        "for username in sorted(not_following_back):\n",
        "    print(username)"
      ]
    },
    {
      "cell_type": "code",
      "execution_count": null,
      "metadata": {
        "id": "YXbqx_PtNH68"
      },
      "outputs": [],
      "source": [
        "import csv\n",
        "\n",
        "# Save the list of users not following back into a CSV file\n",
        "with open(\"not_following_back.csv\", \"w\", newline='', encoding=\"utf-8\") as f:\n",
        "    writer = csv.writer(f)\n",
        "    writer.writerow([\"Username\"])  # Write header\n",
        "    for username in sorted(not_following_back):\n",
        "        writer.writerow([username])  # Write each username as a new row\n",
        "\n",
        "print(\"CSV file created: not_following_back.csv\")"
      ]
    },
    {
      "cell_type": "code",
      "execution_count": null,
      "metadata": {
        "id": "RcxRUHrTM_ni"
      },
      "outputs": [],
      "source": [
        "from google.colab import files\n",
        "\n",
        "# Download the generated CSV file to the local machine (Colab-specific)\n",
        "files.download(\"not_following_back.csv\")"
      ]
    },
    {
      "cell_type": "code",
      "execution_count": null,
      "metadata": {
        "id": "eEID9q5sPzLL"
      },
      "outputs": [],
      "source": [
        "import csv\n",
        "import time\n",
        "import os\n",
        "import random\n",
        "\n",
        "# Create the \"pending_to_unfollow.csv\" file from the original list (only once)\n",
        "if not os.path.exists(\"pending_to_unfollow.csv\"):\n",
        "    with open(\"not_following_back.csv\", \"r\", encoding=\"utf-8\") as infile, \\\n",
        "         open(\"pending_to_unfollow.csv\", \"w\", newline='', encoding=\"utf-8\") as outfile:\n",
        "        reader = csv.reader(infile)\n",
        "        writer = csv.writer(outfile)\n",
        "        next(reader)  # Skip the header\n",
        "        writer.writerow([\"Username\"])\n",
        "        for row in reader:\n",
        "            if row:\n",
        "                writer.writerow(row)\n",
        "\n",
        "# Load the list of remaining users to unfollow\n",
        "usernames = []\n",
        "with open(\"pending_to_unfollow.csv\", \"r\", encoding=\"utf-8\") as f:\n",
        "    reader = csv.reader(f)\n",
        "    next(reader)  # Skip the header\n",
        "    for row in reader:\n",
        "        if row:\n",
        "            usernames.append(row[0])\n",
        "\n",
        "# Perform batch unfollowing (e.g., 80 users per run)\n",
        "MAX_UNFOLLOWS = 80\n",
        "unfollowed = []\n",
        "\n",
        "for username in usernames[:MAX_UNFOLLOWS]:\n",
        "    try:\n",
        "        user_id = cl.user_id_from_username(username)\n",
        "        cl.user_unfollow(user_id)\n",
        "        print(f\"Unfollowed: {username}\")\n",
        "        unfollowed.append(username)\n",
        "        time.sleep(random.uniform(0.5, 1.5))  # Random delay to mimic human behavior\n",
        "    except Exception as e:\n",
        "        print(f\"Error unfollowing {username}: {e}\")\n",
        "\n",
        "# Save the remaining users for the next run\n",
        "remaining = usernames[MAX_UNFOLLOWS:]\n",
        "with open(\"pending_to_unfollow.csv\", \"w\", newline='', encoding=\"utf-8\") as f:\n",
        "    writer = csv.writer(f)\n",
        "    writer.writerow([\"Username\"])\n",
        "    for u in remaining:\n",
        "        writer.writerow([u])\n",
        "\n",
        "print(f\"\\n Unfollowed {len(unfollowed)} users in this session\")\n",
        "print(f\"Remaining users for next time: {len(remaining)}\")"
      ]
    }
  ],
  "metadata": {
    "colab": {
      "provenance": []
    },
    "kernelspec": {
      "display_name": "Python 3",
      "name": "python3"
    },
    "language_info": {
      "name": "python"
    }
  },
  "nbformat": 4,
  "nbformat_minor": 0
}